{
  "nbformat": 4,
  "nbformat_minor": 0,
  "metadata": {
    "colab": {
      "provenance": [],
      "authorship_tag": "ABX9TyML6eVeWkBKRYLv9q7T4/ey",
      "include_colab_link": true
    },
    "kernelspec": {
      "name": "python3",
      "display_name": "Python 3"
    },
    "language_info": {
      "name": "python"
    }
  },
  "cells": [
    {
      "cell_type": "markdown",
      "metadata": {
        "id": "view-in-github",
        "colab_type": "text"
      },
      "source": [
        "<a href=\"https://colab.research.google.com/github/MarinKabic/TennisATP-SQL-DataExploration/blob/main/ATP_Matches_Files.ipynb\" target=\"_parent\"><img src=\"https://colab.research.google.com/assets/colab-badge.svg\" alt=\"Open In Colab\"/></a>"
      ]
    },
    {
      "cell_type": "code",
      "source": [
        "import pandas as pd"
      ],
      "metadata": {
        "id": "Y6C6JLb5k8Dg"
      },
      "execution_count": 1,
      "outputs": []
    },
    {
      "cell_type": "code",
      "source": [
        "# List to store individual DataFrames\n",
        "dfs = []"
      ],
      "metadata": {
        "id": "_O7jlugdnAki"
      },
      "execution_count": 2,
      "outputs": []
    },
    {
      "cell_type": "code",
      "source": [
        "# Loop through the files from 2010 to 2019\n",
        "for year in range(2010, 2020):\n",
        "    # Construct the filename\n",
        "    filename = f\"atp_matches_{year}.csv\"\n",
        "\n",
        "    # Read the CSV file and select specific columns\n",
        "    df = pd.read_csv(filename, usecols = [\"tourney_date\", \"tourney_name\", \"surface\", \"winner_id\", \"winner_name\", \"winner_hand\", \"winner_age\", \"w_ace\", \"loser_id\", \"loser_name\", \"loser_hand\", \"l_ace\", \"loser_age\", \"round\"])\n",
        "\n",
        "    # Add a 'year' column to keep track of the source year\n",
        "    df['year'] = year\n",
        "\n",
        "    # Append the DataFrame to the list\n",
        "    dfs.append(df)"
      ],
      "metadata": {
        "id": "qbO2ogKgnKI6"
      },
      "execution_count": 3,
      "outputs": []
    },
    {
      "cell_type": "code",
      "source": [
        "# Concatenate all DataFrames into a single DataFrame\n",
        "combined_df = pd.concat(dfs, ignore_index=True)"
      ],
      "metadata": {
        "id": "vZofa63mrSLT"
      },
      "execution_count": 4,
      "outputs": []
    },
    {
      "cell_type": "code",
      "source": [
        "# Display the combined DataFrame\n",
        "print(combined_df.head())"
      ],
      "metadata": {
        "id": "p08OdFTBrT5K",
        "colab": {
          "base_uri": "https://localhost:8080/"
        },
        "outputId": "ada86a4a-74a6-4b8a-a2cb-b37ee9b139b0"
      },
      "execution_count": 5,
      "outputs": [
        {
          "output_type": "stream",
          "name": "stdout",
          "text": [
            "  tourney_name surface  tourney_date  winner_id      winner_name winner_hand  \\\n",
            "0     Brisbane    Hard      20100103     104053     Andy Roddick           R   \n",
            "1     Brisbane    Hard      20100103     104958     Carsten Ball           L   \n",
            "2     Brisbane    Hard      20100103     104755  Richard Gasquet           R   \n",
            "3     Brisbane    Hard      20100103     105051    Matthew Ebden           R   \n",
            "4     Brisbane    Hard      20100103     104607    Tomas Berdych           R   \n",
            "\n",
            "   winner_age  loser_id       loser_name loser_hand  loser_age round  w_ace  \\\n",
            "0        27.3    103429     Peter Luczak          R       30.3   R32   15.0   \n",
            "1        22.5    104999    Mischa Zverev          L       22.3   R32   10.0   \n",
            "2        23.5    103813  Jarkko Nieminen          L       28.4   R32    5.0   \n",
            "3        22.1    103781    Jurgen Melzer          L       28.6   R32   12.0   \n",
            "4        24.2    105194     Nick Lindahl          R       21.4   R32    3.0   \n",
            "\n",
            "   l_ace  year  \n",
            "0    4.0  2010  \n",
            "1    2.0  2010  \n",
            "2    4.0  2010  \n",
            "3    2.0  2010  \n",
            "4    6.0  2010  \n"
          ]
        }
      ]
    },
    {
      "cell_type": "code",
      "source": [
        "combined_df.to_csv('ATP_Matches.csv')"
      ],
      "metadata": {
        "id": "caSpHTUFrVWz"
      },
      "execution_count": 6,
      "outputs": []
    }
  ]
}