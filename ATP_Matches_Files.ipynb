{
  "nbformat": 4,
  "nbformat_minor": 0,
  "metadata": {
    "colab": {
      "provenance": [],
      "authorship_tag": "ABX9TyNLlj00jNNUbtl/wr6zqif/",
      "include_colab_link": true
    },
    "kernelspec": {
      "name": "python3",
      "display_name": "Python 3"
    },
    "language_info": {
      "name": "python"
    }
  },
  "cells": [
    {
      "cell_type": "markdown",
      "metadata": {
        "id": "view-in-github",
        "colab_type": "text"
      },
      "source": [
        "<a href=\"https://colab.research.google.com/github/MarinKabic/TennisATP-SQL-DataExploration/blob/main/ATP_Matches_Files.ipynb\" target=\"_parent\"><img src=\"https://colab.research.google.com/assets/colab-badge.svg\" alt=\"Open In Colab\"/></a>"
      ]
    },
    {
      "cell_type": "code",
      "source": [
        "import pandas as pd"
      ],
      "metadata": {
        "id": "Y6C6JLb5k8Dg"
      },
      "execution_count": null,
      "outputs": []
    },
    {
      "cell_type": "code",
      "source": [
        "# List to store individual DataFrames\n",
        "dfs = []"
      ],
      "metadata": {
        "id": "_O7jlugdnAki"
      },
      "execution_count": null,
      "outputs": []
    },
    {
      "cell_type": "code",
      "source": [
        "# Loop through the files from 2010 to 2019\n",
        "for year in range(2010, 2020):\n",
        "    # Construct the filename\n",
        "    filename = f\"atp_matches_{year}.csv\"\n",
        "\n",
        "    # Read the CSV file and select specific columns\n",
        "    df = pd.read_csv(filename, usecols = [\"tourney_date\", \"tourney_name\", \"surface\", \"winner_id\", \"winner_name\", \"winner_hand\", \"winner_age\", \"w_ace\", \"loser_id\", \"loser_name\", \"loser_hand\", \"l_ace\", \"loser_age\", \"round\"])\n",
        "\n",
        "    # Add a 'year' column to keep track of the source year\n",
        "    df['year'] = year\n",
        "\n",
        "    # Append the DataFrame to the list\n",
        "    dfs.append(df)"
      ],
      "metadata": {
        "id": "qbO2ogKgnKI6"
      },
      "execution_count": null,
      "outputs": []
    },
    {
      "cell_type": "code",
      "source": [
        "# Concatenate all DataFrames into a single DataFrame\n",
        "combined_df = pd.concat(dfs, ignore_index=True)"
      ],
      "metadata": {
        "id": "vZofa63mrSLT"
      },
      "execution_count": null,
      "outputs": []
    },
    {
      "cell_type": "code",
      "source": [
        "# Display the combined DataFrame\n",
        "print(combined_df.head())"
      ],
      "metadata": {
        "id": "p08OdFTBrT5K"
      },
      "execution_count": null,
      "outputs": []
    },
    {
      "cell_type": "code",
      "source": [
        "combined_df.to_csv('ATP_Matches.csv')"
      ],
      "metadata": {
        "id": "caSpHTUFrVWz"
      },
      "execution_count": null,
      "outputs": []
    },
    {
      "cell_type": "code",
      "source": [],
      "metadata": {
        "id": "j6y6Mr1hryXq"
      },
      "execution_count": null,
      "outputs": []
    }
  ]
}